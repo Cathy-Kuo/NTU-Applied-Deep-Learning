{
 "cells": [
  {
   "cell_type": "code",
   "execution_count": 1,
   "metadata": {},
   "outputs": [],
   "source": [
    "import pandas as pd\n",
    "train_df = pd.read_csv(\"train.csv\")\n",
    "from nltk.tokenize import TweetTokenizer\n",
    "tknzr = TweetTokenizer()\n",
    "from sklearn.feature_extraction.text import TfidfTransformer\n",
    "from sklearn.feature_extraction.text import TfidfVectorizer\n",
    "import nltk\n",
    "\n",
    "\n",
    "vectorizer = TfidfVectorizer(max_features=6000, tokenizer=tknzr.tokenize)  \n",
    "# vectorizer = TfidfVectorizer(max_features=6000, tokenizer=nltk.word_tokenize)  \n",
    "vectorizer.fit(train_df['text'])\n",
    "X_train = train_df['text']\n",
    "X_train = vectorizer.transform(X_train)\n",
    "X_train = X_train.todense()\n",
    "#X_answer = vectorizer.transform(x_answer)\n",
    "#X_answer = X_answer.todense()"
   ]
  },
  {
   "cell_type": "code",
   "execution_count": 2,
   "metadata": {},
   "outputs": [],
   "source": [
    "y_train = train_df['Category']\n",
    "from sklearn import preprocessing\n",
    "le = preprocessing.LabelEncoder()\n",
    "le.fit(list(y_train.unique()))\n",
    "y_train = le.transform(y_train)"
   ]
  },
  {
   "cell_type": "code",
   "execution_count": 3,
   "metadata": {},
   "outputs": [
    {
     "data": {
      "text/plain": [
       "array([0, 1, 1, ..., 1, 0, 1])"
      ]
     },
     "execution_count": 3,
     "metadata": {},
     "output_type": "execute_result"
    }
   ],
   "source": [
    "y_train"
   ]
  },
  {
   "cell_type": "code",
   "execution_count": 4,
   "metadata": {},
   "outputs": [],
   "source": [
    "import keras\n",
    "\n",
    "from sklearn.preprocessing import LabelEncoder\n",
    "\n",
    "label_encoder = LabelEncoder()\n",
    "label_encoder.fit(y_train)\n",
    "\n",
    "def label_encode(le, labels):\n",
    "    enc = le.transform(labels)\n",
    "    return keras.utils.to_categorical(enc)\n",
    "\n",
    "def label_decode(le, one_hot_label):\n",
    "    dec = np.argmax(one_hot_label, axis=1)\n",
    "    return le.inverse_transform(dec)\n",
    "\n",
    "y_train_enc = label_encode(label_encoder, y_train)\n",
    "# I/O check\n",
    "input_shape = X_train.shape[1]\n",
    "\n",
    "output_shape = len(label_encoder.classes_)\n",
    "\n",
    "from keras.models import Model\n",
    "from keras.layers import Input, Dense\n",
    "from keras.layers import ReLU, Softmax\n",
    "\n",
    "# input layer\n",
    "model_input = Input(shape=(input_shape, ))  # 6000\n",
    "X = model_input\n",
    "\n",
    "# 1st hidden layer\n",
    "X_W1 = Dense(units=2048)(X)  #2048\n",
    "H1 = ReLU()(X_W1)\n",
    "\n",
    "X_Wz = Dense(units=1024)(H1)  # 1024\n",
    "Hz = ReLU()(X_Wz)\n",
    "\n",
    "H1_Wa = Dense(units=512)(Hz)  # 512\n",
    "Ha = ReLU()(H1_Wa)\n",
    "\n",
    "H1_Wb = Dense(units=256)(Ha)  # 256\n",
    "Hb = ReLU()(H1_Wb)\n",
    "\n",
    "H1_Wc = Dense(units=128)(Hb)  # 128\n",
    "Hc = ReLU()(H1_Wc)\n",
    "\n",
    "# 2nd hidden layer\n",
    "H1_W2 = Dense(units=64)(Hc)  # 64\n",
    "H2 = ReLU()(H1_W2)\n",
    "\n",
    "X_Wx = Dense(units=32)(H2)  # 32\n",
    "Hx = ReLU()(X_Wx)\n",
    "\n",
    "X_Wy = Dense(units=16)(Hx)  # 16\n",
    "Hy = ReLU()(X_Wy)\n",
    "\n",
    "\n",
    "# output layer\n",
    "H2_W3 = Dense(units=output_shape)(Hy)  # 8\n",
    "H3 = Softmax()(H2_W3)\n",
    "\n",
    "model_output = H3\n",
    "\n",
    "# create model\n",
    "model = Model(inputs=[model_input], outputs=[model_output])\n",
    "\n",
    "# loss function & optimizer\n",
    "model.compile(optimizer='adam',\n",
    "              loss='categorical_crossentropy',\n",
    "              metrics=['accuracy'])\n",
    "\n",
    "\n",
    "# training setting\n",
    "epochs = 1\n",
    "batch_size = 32\n",
    "\n",
    "from sklearn.model_selection import train_test_split\n",
    "a,b,c,d = train_test_split(X_train,y_train_enc,test_size=0.05)\n",
    "\n"
   ]
  },
  {
   "cell_type": "code",
   "execution_count": 5,
   "metadata": {},
   "outputs": [
    {
     "name": "stdout",
     "output_type": "stream",
     "text": [
      "2375/2375 [==============================] - 163s 69ms/step - loss: 0.2739 - accuracy: 0.8838 - val_loss: 0.2425 - val_accuracy: 0.8980\n"
     ]
    }
   ],
   "source": [
    "# training!\n",
    "history = model.fit(a,c, \n",
    "                    epochs=epochs, \n",
    "                    batch_size=batch_size,\n",
    "                   validation_data=(b,d))"
   ]
  },
  {
   "cell_type": "code",
   "execution_count": 5,
   "metadata": {},
   "outputs": [
    {
     "name": "stdout",
     "output_type": "stream",
     "text": [
      "[1 0 1 0 0]\n"
     ]
    }
   ],
   "source": [
    "import numpy as np\n",
    "test = pd.read_csv(\"test.csv\")\n",
    "X_test = vectorizer.transform(test['text'])\n",
    "X_test = X_test.todense()\n",
    "\n",
    "pred_result = model.predict(X_test, batch_size=128)\n",
    "\n",
    "pred_result = label_decode(label_encoder, pred_result)\n",
    "\n",
    "print(pred_result[:5])"
   ]
  },
  {
   "cell_type": "code",
   "execution_count": 6,
   "metadata": {},
   "outputs": [],
   "source": [
    "test['Category'] = pred_result"
   ]
  },
  {
   "cell_type": "code",
   "execution_count": 7,
   "metadata": {},
   "outputs": [
    {
     "data": {
      "text/html": [
       "<div>\n",
       "<style scoped>\n",
       "    .dataframe tbody tr th:only-of-type {\n",
       "        vertical-align: middle;\n",
       "    }\n",
       "\n",
       "    .dataframe tbody tr th {\n",
       "        vertical-align: top;\n",
       "    }\n",
       "\n",
       "    .dataframe thead th {\n",
       "        text-align: right;\n",
       "    }\n",
       "</style>\n",
       "<table border=\"1\" class=\"dataframe\">\n",
       "  <thead>\n",
       "    <tr style=\"text-align: right;\">\n",
       "      <th></th>\n",
       "      <th>Id</th>\n",
       "      <th>Category</th>\n",
       "    </tr>\n",
       "  </thead>\n",
       "  <tbody>\n",
       "    <tr>\n",
       "      <td>0</td>\n",
       "      <td>60ffed24da8262dd38c916dd517c617641710ede348320...</td>\n",
       "      <td>1</td>\n",
       "    </tr>\n",
       "    <tr>\n",
       "      <td>1</td>\n",
       "      <td>cb931d414e634344c782a128d542188d6ec1d325e82dd1...</td>\n",
       "      <td>0</td>\n",
       "    </tr>\n",
       "    <tr>\n",
       "      <td>2</td>\n",
       "      <td>f7febf0abfefcb927ee16440eaca62d795392de2d685a6...</td>\n",
       "      <td>1</td>\n",
       "    </tr>\n",
       "    <tr>\n",
       "      <td>3</td>\n",
       "      <td>709399d1be2207b8f06dfc9ddb3a0709d9894c02849b88...</td>\n",
       "      <td>0</td>\n",
       "    </tr>\n",
       "    <tr>\n",
       "      <td>4</td>\n",
       "      <td>0d1969c03277dfaef7ccfd40f0710bcff4ecd978faa935...</td>\n",
       "      <td>0</td>\n",
       "    </tr>\n",
       "  </tbody>\n",
       "</table>\n",
       "</div>"
      ],
      "text/plain": [
       "                                                  Id  Category\n",
       "0  60ffed24da8262dd38c916dd517c617641710ede348320...         1\n",
       "1  cb931d414e634344c782a128d542188d6ec1d325e82dd1...         0\n",
       "2  f7febf0abfefcb927ee16440eaca62d795392de2d685a6...         1\n",
       "3  709399d1be2207b8f06dfc9ddb3a0709d9894c02849b88...         0\n",
       "4  0d1969c03277dfaef7ccfd40f0710bcff4ecd978faa935...         0"
      ]
     },
     "execution_count": 7,
     "metadata": {},
     "output_type": "execute_result"
    }
   ],
   "source": [
    "test = test.drop(['text'], axis=1)\n",
    "test.head()"
   ]
  },
  {
   "cell_type": "code",
   "execution_count": 8,
   "metadata": {},
   "outputs": [],
   "source": [
    "test.to_csv('submission.csv',index=0)"
   ]
  },
  {
   "cell_type": "code",
   "execution_count": null,
   "metadata": {},
   "outputs": [],
   "source": []
  }
 ],
 "metadata": {
  "kernelspec": {
   "display_name": "Python 3",
   "language": "python",
   "name": "python3"
  },
  "language_info": {
   "codemirror_mode": {
    "name": "ipython",
    "version": 3
   },
   "file_extension": ".py",
   "mimetype": "text/x-python",
   "name": "python",
   "nbconvert_exporter": "python",
   "pygments_lexer": "ipython3",
   "version": "3.7.4"
  }
 },
 "nbformat": 4,
 "nbformat_minor": 2
}
